{
 "cells": [
  {
   "cell_type": "markdown",
   "id": "03e10e84-7fff-41fa-957b-040d59c0985f",
   "metadata": {},
   "source": [
    "# Undersøk karakterer og kjønn på bøker"
   ]
  },
  {
   "cell_type": "code",
   "execution_count": 13,
   "id": "7e8876a6-7f6f-4786-a332-8e0a1b12e76b",
   "metadata": {},
   "outputs": [
    {
     "name": "stdout",
     "output_type": "stream",
     "text": [
      "Collecting gender-guesser\n",
      "  Downloading gender_guesser-0.4.0-py2.py3-none-any.whl (379 kB)\n",
      "\u001b[K     |████████████████████████████████| 379 kB 850 kB/s eta 0:00:01\n",
      "\u001b[?25hInstalling collected packages: gender-guesser\n",
      "Successfully installed gender-guesser-0.4.0\n"
     ]
    }
   ],
   "source": [
    "!pip install gender-guesser"
   ]
  },
  {
   "cell_type": "code",
   "execution_count": 14,
   "id": "73562141-1bf2-4d94-8031-dab7441adb8f",
   "metadata": {},
   "outputs": [],
   "source": [
    "import tarfile\n",
    "import json\n",
    "import pandas as pd\n",
    "import gender_guesser.detector as gender"
   ]
  },
  {
   "cell_type": "code",
   "execution_count": 15,
   "id": "cd51fb88-5bb6-41d4-82be-41e9cfd59011",
   "metadata": {},
   "outputs": [],
   "source": []
  },
  {
   "cell_type": "code",
   "execution_count": 6,
   "id": "7a605ba9-5832-4af8-a99e-0328de5c0aa1",
   "metadata": {},
   "outputs": [
    {
     "name": "stdout",
     "output_type": "stream",
     "text": [
      "feil\n"
     ]
    }
   ],
   "source": [
    "tar = tarfile.open(\"2019_bokelskere.tar.gz\", \"r:gz\")\n",
    "for member in tar.getmembers():\n",
    "    f = tar.extractfile(member)\n",
    "    if f is not None:\n",
    "        try:\n",
    "            content = json.loads(f.read())\n",
    "        except:\n",
    "            print(\"feil\")"
   ]
  },
  {
   "cell_type": "code",
   "execution_count": 9,
   "id": "232821c7-191c-485f-a1a2-b778ca62a037",
   "metadata": {},
   "outputs": [],
   "source": [
    "df = pd.DataFrame(content)"
   ]
  },
  {
   "cell_type": "code",
   "execution_count": 11,
   "id": "b520256f-7db4-471e-9c39-e524b2bd01e2",
   "metadata": {},
   "outputs": [],
   "source": [
    "df.to_csv('bokelskere.csv')"
   ]
  }
 ],
 "metadata": {
  "kernelspec": {
   "display_name": "Python 3 (ipykernel)",
   "language": "python",
   "name": "python3"
  },
  "language_info": {
   "codemirror_mode": {
    "name": "ipython",
    "version": 3
   },
   "file_extension": ".py",
   "mimetype": "text/x-python",
   "name": "python",
   "nbconvert_exporter": "python",
   "pygments_lexer": "ipython3",
   "version": "3.9.7"
  }
 },
 "nbformat": 4,
 "nbformat_minor": 5
}
